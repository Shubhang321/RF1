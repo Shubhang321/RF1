{
 "cells": [
  {
   "cell_type": "code",
   "execution_count": 54,
   "id": "e9f06077",
   "metadata": {},
   "outputs": [],
   "source": [
    "import pandas as pd\n",
    "import numpy as np\n",
    "import seaborn as sns\n",
    "import matplotlib.pyplot as plt\n",
    "from sklearn.model_selection import train_test_split\n",
    "from sklearn.ensemble import RandomForestClassifier\n",
    "from sklearn.metrics import accuracy_score, precision_score, recall_score, f1_score, confusion_matrix, classification_report\n",
    "from sklearn.preprocessing import LabelEncoder, StandardScaler"
   ]
  },
  {
   "cell_type": "code",
   "execution_count": 55,
   "id": "f435344e",
   "metadata": {},
   "outputs": [],
   "source": [
    "# Load dataset\n",
    "file_path = \"Train_Test_IoT_Motion_Light.csv\"  \n",
    "df = pd.read_csv(file_path)"
   ]
  },
  {
   "cell_type": "code",
   "execution_count": 56,
   "id": "3cd4bc81",
   "metadata": {},
   "outputs": [
    {
     "data": {
      "text/html": [
       "<div>\n",
       "<style scoped>\n",
       "    .dataframe tbody tr th:only-of-type {\n",
       "        vertical-align: middle;\n",
       "    }\n",
       "\n",
       "    .dataframe tbody tr th {\n",
       "        vertical-align: top;\n",
       "    }\n",
       "\n",
       "    .dataframe thead th {\n",
       "        text-align: right;\n",
       "    }\n",
       "</style>\n",
       "<table border=\"1\" class=\"dataframe\">\n",
       "  <thead>\n",
       "    <tr style=\"text-align: right;\">\n",
       "      <th></th>\n",
       "      <th>date</th>\n",
       "      <th>time</th>\n",
       "      <th>motion_status</th>\n",
       "      <th>light_status</th>\n",
       "      <th>label</th>\n",
       "      <th>type</th>\n",
       "    </tr>\n",
       "  </thead>\n",
       "  <tbody>\n",
       "    <tr>\n",
       "      <th>0</th>\n",
       "      <td>25-Apr-19</td>\n",
       "      <td>19:41:37</td>\n",
       "      <td>0</td>\n",
       "      <td>off</td>\n",
       "      <td>1</td>\n",
       "      <td>ddos</td>\n",
       "    </tr>\n",
       "    <tr>\n",
       "      <th>1</th>\n",
       "      <td>25-Apr-19</td>\n",
       "      <td>19:41:42</td>\n",
       "      <td>1</td>\n",
       "      <td>on</td>\n",
       "      <td>1</td>\n",
       "      <td>ddos</td>\n",
       "    </tr>\n",
       "    <tr>\n",
       "      <th>2</th>\n",
       "      <td>25-Apr-19</td>\n",
       "      <td>19:41:43</td>\n",
       "      <td>0</td>\n",
       "      <td>off</td>\n",
       "      <td>1</td>\n",
       "      <td>ddos</td>\n",
       "    </tr>\n",
       "    <tr>\n",
       "      <th>3</th>\n",
       "      <td>25-Apr-19</td>\n",
       "      <td>19:41:48</td>\n",
       "      <td>1</td>\n",
       "      <td>on</td>\n",
       "      <td>1</td>\n",
       "      <td>ddos</td>\n",
       "    </tr>\n",
       "    <tr>\n",
       "      <th>4</th>\n",
       "      <td>25-Apr-19</td>\n",
       "      <td>19:41:48</td>\n",
       "      <td>0</td>\n",
       "      <td>off</td>\n",
       "      <td>1</td>\n",
       "      <td>ddos</td>\n",
       "    </tr>\n",
       "  </tbody>\n",
       "</table>\n",
       "</div>"
      ],
      "text/plain": [
       "        date        time  motion_status light_status  label  type\n",
       "0  25-Apr-19   19:41:37               0          off      1  ddos\n",
       "1  25-Apr-19   19:41:42               1           on      1  ddos\n",
       "2  25-Apr-19   19:41:43               0          off      1  ddos\n",
       "3  25-Apr-19   19:41:48               1           on      1  ddos\n",
       "4  25-Apr-19   19:41:48               0          off      1  ddos"
      ]
     },
     "execution_count": 56,
     "metadata": {},
     "output_type": "execute_result"
    }
   ],
   "source": [
    "df.head()"
   ]
  },
  {
   "cell_type": "code",
   "execution_count": 57,
   "id": "ecb7c827",
   "metadata": {},
   "outputs": [
    {
     "name": "stdout",
     "output_type": "stream",
     "text": [
      "Available columns: Index(['date', 'time', 'motion_status', 'light_status', 'label', 'type'], dtype='object')\n"
     ]
    }
   ],
   "source": [
    "# Print available columns\n",
    "print(\"Available columns:\", df.columns)\n"
   ]
  },
  {
   "cell_type": "code",
   "execution_count": 58,
   "id": "ab826d6d",
   "metadata": {},
   "outputs": [
    {
     "name": "stdout",
     "output_type": "stream",
     "text": [
      "(39488, 6)\n"
     ]
    }
   ],
   "source": [
    "print(df.shape)"
   ]
  },
  {
   "cell_type": "code",
   "execution_count": 59,
   "id": "20f94938",
   "metadata": {},
   "outputs": [
    {
     "name": "stdout",
     "output_type": "stream",
     "text": [
      "Using target column: type\n"
     ]
    }
   ],
   "source": [
    "# Identify the correct target column\n",
    "possible_targets = [\"type\", \"motion_status\", \"light_status\", \"label\"]\n",
    "target_column = next((col for col in possible_targets if col in df.columns), None)\n",
    "\n",
    "if target_column is None:\n",
    "    raise ValueError(\"Target variable not found. Check dataset columns.\")\n",
    "\n",
    "print(f\"Using target column: {target_column}\")\n"
   ]
  },
  {
   "cell_type": "code",
   "execution_count": 60,
   "id": "f4537a43",
   "metadata": {},
   "outputs": [],
   "source": [
    "# Encode categorical columns\n",
    "categorical_cols = df.select_dtypes(include=['object']).columns\n",
    "for col in categorical_cols:\n",
    "    df[col] = df[col].astype(str)\n",
    "    le = LabelEncoder()\n",
    "    df[col] = le.fit_transform(df[col])"
   ]
  },
  {
   "cell_type": "code",
   "execution_count": 61,
   "id": "b86414a8",
   "metadata": {},
   "outputs": [],
   "source": [
    "# Separate features and target variable\n",
    "X = df.drop(columns=[target_column])\n",
    "y = df[target_column]"
   ]
  },
  {
   "cell_type": "code",
   "execution_count": 62,
   "id": "e124ed92",
   "metadata": {},
   "outputs": [],
   "source": [
    "# Normalize features\n",
    "scaler = StandardScaler()\n",
    "X = scaler.fit_transform(X)"
   ]
  },
  {
   "cell_type": "code",
   "execution_count": 63,
   "id": "2f760737",
   "metadata": {},
   "outputs": [],
   "source": [
    "# Split data\n",
    "X_train, X_test, y_train, y_test = train_test_split(X, y, test_size=0.1, random_state=42)"
   ]
  },
  {
   "cell_type": "code",
   "execution_count": 64,
   "id": "6ec80e01",
   "metadata": {},
   "outputs": [
    {
     "data": {
      "text/plain": [
       "RandomForestClassifier(random_state=42)"
      ]
     },
     "execution_count": 64,
     "metadata": {},
     "output_type": "execute_result"
    }
   ],
   "source": [
    "# Train Random Forest\n",
    "rf_classifier = RandomForestClassifier(n_estimators=100, random_state=42)\n",
    "rf_classifier.fit(X_train, y_train)\n"
   ]
  },
  {
   "cell_type": "code",
   "execution_count": 65,
   "id": "b3d474c9",
   "metadata": {},
   "outputs": [],
   "source": [
    "# Make predictions\n",
    "y_pred = rf_classifier.predict(X_test)\n"
   ]
  },
  {
   "cell_type": "code",
   "execution_count": 66,
   "id": "67c905a1",
   "metadata": {},
   "outputs": [],
   "source": [
    "# Compute evaluation metrics\n",
    "accuracy = accuracy_score(y_test, y_pred)\n",
    "precision = precision_score(y_test, y_pred, average='weighted')  # Change 'weighted' to 'macro' or 'micro' if needed\n",
    "recall = recall_score(y_test, y_pred, average='weighted')\n",
    "f1 = f1_score(y_test, y_pred, average='weighted')"
   ]
  },
  {
   "cell_type": "code",
   "execution_count": 67,
   "id": "244b427f",
   "metadata": {},
   "outputs": [
    {
     "name": "stdout",
     "output_type": "stream",
     "text": [
      "Accuracy: 100.00%\n",
      "Precision: 100.0000\n",
      "Recall: 100.0000\n",
      "F1 Score: 100.0000\n",
      "Confusion matrix:\n",
      "[[ 504    0    0    0    0    0    0    0]\n",
      " [   0  525    0    0    0    0    0    0]\n",
      " [   0    0  523    0    0    0    0    0]\n",
      " [   0    0    0 1478    0    0    0    0]\n",
      " [   0    0    0    0  490    0    0    0]\n",
      " [   0    0    0    0    0  219    0    0]\n",
      " [   0    0    0    0    0    0  162    0]\n",
      " [   0    0    0    0    0    0    0   48]]\n",
      "              precision    recall  f1-score   support\n",
      "\n",
      "           0       1.00      1.00      1.00       504\n",
      "           1       1.00      1.00      1.00       525\n",
      "           2       1.00      1.00      1.00       523\n",
      "           3       1.00      1.00      1.00      1478\n",
      "           4       1.00      1.00      1.00       490\n",
      "           5       1.00      1.00      1.00       219\n",
      "           6       1.00      1.00      1.00       162\n",
      "           7       1.00      1.00      1.00        48\n",
      "\n",
      "    accuracy                           1.00      3949\n",
      "   macro avg       1.00      1.00      1.00      3949\n",
      "weighted avg       1.00      1.00      1.00      3949\n",
      "\n"
     ]
    }
   ],
   "source": [
    "accuracy = accuracy_score(y_test, y_pred)\n",
    "print(f'Accuracy: {accuracy * 100:.2f}%')\n",
    "\n",
    "precision = precision_score(y_test, y_pred, average='weighted')\n",
    "recall = recall_score(y_test, y_pred, average='weighted')\n",
    "f1 = f1_score(y_test, y_pred, average='weighted')\n",
    "cm= confusion_matrix(y_test,y_pred)\n",
    "\n",
    "print(f\"Precision: {precision* 100:.4f}\")\n",
    "print(f\"Recall: {recall* 100:.4f}\")\n",
    "print(f\"F1 Score: {f1* 100:.4f}\")\n",
    "print(f\"Confusion matrix:\\n{cm}\")\n",
    "print(classification_report(y_test, y_pred))"
   ]
  },
  {
   "cell_type": "code",
   "execution_count": 68,
   "id": "0ae49c69",
   "metadata": {},
   "outputs": [],
   "source": [
    "# Compute confusion matrix\n",
    "cm = confusion_matrix(y_test, y_pred)\n"
   ]
  },
  {
   "cell_type": "code",
   "execution_count": 69,
   "id": "cd2e86fb",
   "metadata": {},
   "outputs": [
    {
     "data": {
      "image/png": "[encoded data removed]",
      "text/plain": [
       "<Figure size 432x288 with 2 Axes>"
      ]
     },
     "metadata": {
      "needs_background": "light"
     },
     "output_type": "display_data"
    }
   ],
   "source": [
    "# Confusion Matrix\n",
    "cm = confusion_matrix(y_test, y_pred)\n",
    "sns.heatmap(cm, annot=True, fmt='d', cmap='Blues')\n",
    "plt.xlabel('Predicted')\n",
    "plt.ylabel('Actual')\n",
    "plt.title('Confusion Matrix')\n",
    "plt.show()"
   ]
  },
  {
   "cell_type": "code",
   "execution_count": null,
   "id": "e4a64526",
   "metadata": {},
   "outputs": [],
   "source": []
  }
 ],
 "metadata": {
  "kernelspec": {
   "display_name": "Python 3 (ipykernel)",
   "language": "python",
   "name": "python3"
  },
  "language_info": {
   "codemirror_mode": {
    "name": "ipython",
    "version": 3
   },
   "file_extension": ".py",
   "mimetype": "text/x-python",
   "name": "python",
   "nbconvert_exporter": "python",
   "pygments_lexer": "ipython3",
   "version": "3.9.12"
  }
 },
 "nbformat": 4,
 "nbformat_minor": 5
}
